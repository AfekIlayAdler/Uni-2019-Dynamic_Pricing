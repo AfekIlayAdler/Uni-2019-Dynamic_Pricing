{
  "nbformat": 4,
  "nbformat_minor": 0,
  "metadata": {
    "colab": {
      "name": "HW1_Practical.ipynb",
      "provenance": [],
      "collapsed_sections": [],
      "include_colab_link": true
    },
    "kernelspec": {
      "name": "python3",
      "display_name": "Python 3"
    },
    "accelerator": "GPU"
  },
  "cells": [
    {
      "cell_type": "markdown",
      "metadata": {
        "id": "view-in-github",
        "colab_type": "text"
      },
      "source": [
        "<a href=\"https://colab.research.google.com/github/AfekIlayAdler/Uni-2019-Dynamic_Pricing/blob/master/HW1/HW1_Practical.ipynb\" target=\"_parent\"><img src=\"https://colab.research.google.com/assets/colab-badge.svg\" alt=\"Open In Colab\"/></a>"
      ]
    },
    {
      "cell_type": "markdown",
      "metadata": {
        "id": "Y7K1lIKisGq0",
        "colab_type": "text"
      },
      "source": [
        "# 1. Imports"
      ]
    },
    {
      "cell_type": "code",
      "metadata": {
        "id": "Nikv0sDysAov",
        "colab_type": "code",
        "outputId": "29ad97d9-1e96-4ca7-a414-dd14394ef11c",
        "colab": {
          "base_uri": "https://localhost:8080/",
          "height": 65
        }
      },
      "source": [
        "import torch\n",
        "from torchvision import datasets, transforms\n",
        "import helper\n",
        "from torch import nn, optim\n",
        "import torch.nn.functional as F\n",
        "import matplotlib.pyplot as plt\n",
        "#from torch.utils.tensorboard import SummaryWriter\n",
        "import tensorflow as tf\n",
        "from tensorflow import summary\n",
        "import datetime\n",
        "%load_ext tensorboard"
      ],
      "execution_count": 1,
      "outputs": [
        {
          "output_type": "display_data",
          "data": {
            "text/html": [
              "<p style=\"color: red;\">\n",
              "The default version of TensorFlow in Colab will soon switch to TensorFlow 2.x.<br>\n",
              "We recommend you <a href=\"https://www.tensorflow.org/guide/migrate\" target=\"_blank\">upgrade</a> now \n",
              "or ensure your notebook will continue to use TensorFlow 1.x via the <code>%tensorflow_version 1.x</code> magic:\n",
              "<a href=\"https://colab.research.google.com/notebooks/tensorflow_version.ipynb\" target=\"_blank\">more info</a>.</p>\n"
            ],
            "text/plain": [
              "<IPython.core.display.HTML object>"
            ]
          },
          "metadata": {
            "tags": []
          }
        }
      ]
    },
    {
      "cell_type": "code",
      "metadata": {
        "id": "XubIfPcwJiQQ",
        "colab_type": "code",
        "colab": {
          "base_uri": "https://localhost:8080/",
          "height": 361
        },
        "outputId": "3cf426f9-b0b9-4001-b48d-f605b169141d"
      },
      "source": [
        "current_time = str(datetime.datetime.now().timestamp())\n",
        "train_log_dir = 'logs/tensorboard/train/' + current_time\n",
        "test_log_dir = 'logs/tensorboard/test/' + current_time\n",
        "train_summary_writer = summary.create_file_writer(train_log_dir)\n",
        "test_summary_writer = summary.create_file_writer(test_log_dir)"
      ],
      "execution_count": 2,
      "outputs": [
        {
          "output_type": "error",
          "ename": "AttributeError",
          "evalue": "ignored",
          "traceback": [
            "\u001b[0;31m---------------------------------------------------------------------------\u001b[0m",
            "\u001b[0;31mAttributeError\u001b[0m                            Traceback (most recent call last)",
            "\u001b[0;32m<ipython-input-2-9aae44b594a3>\u001b[0m in \u001b[0;36m<module>\u001b[0;34m()\u001b[0m\n\u001b[1;32m      2\u001b[0m \u001b[0mtrain_log_dir\u001b[0m \u001b[0;34m=\u001b[0m \u001b[0;34m'logs/tensorboard/train/'\u001b[0m \u001b[0;34m+\u001b[0m \u001b[0mcurrent_time\u001b[0m\u001b[0;34m\u001b[0m\u001b[0;34m\u001b[0m\u001b[0m\n\u001b[1;32m      3\u001b[0m \u001b[0mtest_log_dir\u001b[0m \u001b[0;34m=\u001b[0m \u001b[0;34m'logs/tensorboard/test/'\u001b[0m \u001b[0;34m+\u001b[0m \u001b[0mcurrent_time\u001b[0m\u001b[0;34m\u001b[0m\u001b[0;34m\u001b[0m\u001b[0m\n\u001b[0;32m----> 4\u001b[0;31m \u001b[0mtrain_summary_writer\u001b[0m \u001b[0;34m=\u001b[0m \u001b[0msummary\u001b[0m\u001b[0;34m.\u001b[0m\u001b[0mcreate_file_writer\u001b[0m\u001b[0;34m(\u001b[0m\u001b[0mtrain_log_dir\u001b[0m\u001b[0;34m)\u001b[0m\u001b[0;34m\u001b[0m\u001b[0;34m\u001b[0m\u001b[0m\n\u001b[0m\u001b[1;32m      5\u001b[0m \u001b[0mtest_summary_writer\u001b[0m \u001b[0;34m=\u001b[0m \u001b[0msummary\u001b[0m\u001b[0;34m.\u001b[0m\u001b[0mcreate_file_writer\u001b[0m\u001b[0;34m(\u001b[0m\u001b[0mtest_log_dir\u001b[0m\u001b[0;34m)\u001b[0m\u001b[0;34m\u001b[0m\u001b[0;34m\u001b[0m\u001b[0m\n",
            "\u001b[0;32m/usr/local/lib/python3.6/dist-packages/tensorflow_core/python/util/module_wrapper.py\u001b[0m in \u001b[0;36m__getattr__\u001b[0;34m(self, name)\u001b[0m\n\u001b[1;32m    191\u001b[0m   \u001b[0;32mdef\u001b[0m \u001b[0m__getattr__\u001b[0m\u001b[0;34m(\u001b[0m\u001b[0mself\u001b[0m\u001b[0;34m,\u001b[0m \u001b[0mname\u001b[0m\u001b[0;34m)\u001b[0m\u001b[0;34m:\u001b[0m\u001b[0;34m\u001b[0m\u001b[0;34m\u001b[0m\u001b[0m\n\u001b[1;32m    192\u001b[0m     \u001b[0;32mtry\u001b[0m\u001b[0;34m:\u001b[0m\u001b[0;34m\u001b[0m\u001b[0;34m\u001b[0m\u001b[0m\n\u001b[0;32m--> 193\u001b[0;31m       \u001b[0mattr\u001b[0m \u001b[0;34m=\u001b[0m \u001b[0mgetattr\u001b[0m\u001b[0;34m(\u001b[0m\u001b[0mself\u001b[0m\u001b[0;34m.\u001b[0m\u001b[0m_tfmw_wrapped_module\u001b[0m\u001b[0;34m,\u001b[0m \u001b[0mname\u001b[0m\u001b[0;34m)\u001b[0m\u001b[0;34m\u001b[0m\u001b[0;34m\u001b[0m\u001b[0m\n\u001b[0m\u001b[1;32m    194\u001b[0m     \u001b[0;32mexcept\u001b[0m \u001b[0mAttributeError\u001b[0m\u001b[0;34m:\u001b[0m\u001b[0;34m\u001b[0m\u001b[0;34m\u001b[0m\u001b[0m\n\u001b[1;32m    195\u001b[0m       \u001b[0;32mif\u001b[0m \u001b[0;32mnot\u001b[0m \u001b[0mself\u001b[0m\u001b[0;34m.\u001b[0m\u001b[0m_tfmw_public_apis\u001b[0m\u001b[0;34m:\u001b[0m\u001b[0;34m\u001b[0m\u001b[0;34m\u001b[0m\u001b[0m\n",
            "\u001b[0;31mAttributeError\u001b[0m: module 'tensorflow._api.v1.summary' has no attribute 'create_file_writer'"
          ]
        }
      ]
    },
    {
      "cell_type": "markdown",
      "metadata": {
        "id": "GQp6j87hINVN",
        "colab_type": "text"
      },
      "source": [
        "## 2. Get data\n"
      ]
    },
    {
      "cell_type": "code",
      "metadata": {
        "id": "25-lLkaoILkU",
        "colab_type": "code",
        "colab": {}
      },
      "source": [
        "\"\"\"\n",
        "# TO DO: understand transform\n",
        "\"\"\"\n",
        "def get_train_test_loaders():\n",
        "  # Define a transform to normalize the data\n",
        "  transform = transforms.Compose([transforms.ToTensor(),\n",
        "                                transforms.Normalize((0.5,), (0.5,))])\n",
        "  # Download and load the training data\n",
        "  trainset = datasets.FashionMNIST('~/.pytorch/F_MNIST_data/', download=True, train=True, transform=transform)\n",
        "  # Download and load the test data\n",
        "  testset = datasets.FashionMNIST('~/.pytorch/F_MNIST_data/', download=True, train=False, transform=transform)\n",
        "  trainloader = torch.utils.data.DataLoader(trainset, batch_size=64, shuffle=True)\n",
        "  testloader = torch.utils.data.DataLoader(testset, batch_size=64, shuffle=True)\n",
        "  return trainloader, testloader"
      ],
      "execution_count": 0,
      "outputs": []
    },
    {
      "cell_type": "code",
      "metadata": {
        "id": "UtX1-oT22CNC",
        "colab_type": "code",
        "colab": {}
      },
      "source": [
        "# import matplotlib.pyplot as plt\n",
        "# % matplotlib inline\n",
        "# image, label = next(iter(trainloader))\n",
        "# print (image.size())\n",
        "# image = image[2][0]\n",
        "# plt.imshow(image)"
      ],
      "execution_count": 0,
      "outputs": []
    },
    {
      "cell_type": "markdown",
      "metadata": {
        "id": "oJp5M833tW-t",
        "colab_type": "text"
      },
      "source": [
        "# 3. Model\n"
      ]
    },
    {
      "cell_type": "code",
      "metadata": {
        "id": "Mymgu-iotZ3N",
        "colab_type": "code",
        "colab": {}
      },
      "source": [
        "class LeNet5(nn.Module):\n",
        "  def __init__(self,regulizer):\n",
        "    super().__init__()\n",
        "    self.conv1 = nn.Conv2d(in_channels=1, out_channels=6, kernel_size=5,padding=2)\n",
        "    self.max_pool_1 = nn.MaxPool2d(kernel_size=2)\n",
        "    self.conv2 = nn.Conv2d(in_channels=6, out_channels=16, kernel_size=5)\n",
        "    self.max_pool_2 = nn.MaxPool2d(kernel_size=2)  \n",
        "    self.fc1 = nn.Linear(16*5*5, 120) \n",
        "    self.fc2 = nn.Linear(120, 84) \n",
        "    self.fc3 = nn.Linear(84, 10) \n",
        "    self.softmax = nn.LogSoftmax(dim=1)\n",
        "    self.regulizer = regulizer\n",
        "\n",
        "  def forward(self, x):\n",
        "    x = F.relu(self.conv1(x))  \n",
        "    x = self.max_pool_1(x) \n",
        "    x = F.relu(self.conv2(x))\n",
        "    x = self.max_pool_2(x)\n",
        "    x = x.view(-1, 16*5*5)\n",
        "    x = F.relu(self.fc1(x))\n",
        "    x = F.relu(self.fc2(x))\n",
        "    x = self.fc3(x)\n",
        "    x = self.regulizer(x)\n",
        "    x = self.softmax(x)\n",
        "    return x\n",
        "\n",
        "class LeNet5Drop(LeNet5):\n",
        "  def __init__(self,regulizer = nn.Dropout(0.1)):\n",
        "    super().__init__(regulizer)\n",
        "\n",
        "class LeNet5BatchNorm(LeNet5):\n",
        "    def __init__(self,regulizer = nn.BatchNorm1d(84, affine=False)):\n",
        "      super().__init__(regulizer)\n",
        "\n",
        "class LeNet5NoRegulizer(LeNet5):\n",
        "    def __init__(self,regulizer = lambda x: x):\n",
        "      super().__init__(regulizer)"
      ],
      "execution_count": 0,
      "outputs": []
    },
    {
      "cell_type": "code",
      "metadata": {
        "id": "MDnoTlxf5C9p",
        "colab_type": "code",
        "colab": {}
      },
      "source": [
        "def calc_train_accuracy(model,images,labels):\n",
        "  model.eval()\n",
        "  log_ps = model(images)\n",
        "  ps = torch.exp(log_ps)\n",
        "  top_p, top_class = ps.topk(1, dim=1)\n",
        "  equals = top_class == labels.view(*top_class.shape)\n",
        "  model.train()\n",
        "  return torch.mean(equals.type(torch.FloatTensor))\n",
        "\n",
        "def fit(model, trainloader, testloader,weight_decay = 0,num_epochs=5): \n",
        "  train_accu, test_accu = [],[]\n",
        "  criterion = nn.NLLLoss()\n",
        "  optimizer = optim.Adam(model.parameters(), lr=10**(-3), weight_decay = weight_decay)\n",
        "  for epoch in range(1,num_epochs+1):\n",
        "    model.train()\n",
        "    train_loss , train_accuracy= 0, 0\n",
        "    for images, labels in trainloader:\n",
        "      log_ps = model(images)\n",
        "      train_accuracy += calc_train_accuracy(model,images,labels)\n",
        "      loss = criterion(log_ps, labels)\n",
        "      optimizer.zero_grad()\n",
        "      loss.backward()\n",
        "      optimizer.step()\n",
        "      train_loss += loss.item()\n",
        "\n",
        "    # recording to Tensorboard\n",
        "    with train_summary_writer.as_default():\n",
        "      tf.summary.scalar('accuracy', train_accuracy/len(trainloader), step=epoch)\n",
        "\n",
        "    train_accu.append(train_accuracy/len(trainloader))\n",
        "    test_accuracy = test(model,testloader,criterion)\n",
        "    test_accu.append(test_accuracy/len(testloader))\n",
        "\n",
        "    # recording to Tensorboard\n",
        "    with train_summary_writer.as_default():\n",
        "      tf.summary.scalar('accuracy', test_accuracy/len(testloader), step=epoch)\n",
        "  return train_accuracy/len(trainloader),test_accuracy/len(testloader)\n",
        "        \n",
        "def test(model, test_loader,criterion):\n",
        "  model.eval()\n",
        "  test_loss,test_accuracy = 0,0\n",
        "  with torch.no_grad():\n",
        "      for images, labels in testloader:\n",
        "          log_ps = model(images)\n",
        "          test_loss += criterion(log_ps, labels)\n",
        "          ps = torch.exp(log_ps)\n",
        "          top_p, top_class = ps.topk(1, dim=1)\n",
        "          equals = top_class == labels.view(*top_class.shape)\n",
        "          test_accuracy += torch.mean(equals.type(torch.FloatTensor))\n",
        "          return test_accuracy"
      ],
      "execution_count": 0,
      "outputs": []
    },
    {
      "cell_type": "code",
      "metadata": {
        "id": "o5Kv97vvHx32",
        "colab_type": "code",
        "colab": {}
      },
      "source": [
        "def run_exp():\n",
        "  retults = []\n",
        "  experiments = {'droput' : LeNet5Drop,\n",
        "                'batch_norm' : LeNet5BatchNorm,\n",
        "                'no_regulizer' : LeNet5NoRegulizer,\n",
        "                'weight_decay' : LeNet5}\n",
        "  for exp_name, model in experiments.items():\n",
        "    model = model()\n",
        "    weight_decay = 10^(-2) if exp_name == weight_decay else 0\n",
        "    train_acc,test_acc = fit(lenet5, trainloader, testloader,weight_decay = weight_decay)\n",
        "    retults.append([exp_name,train_acc,test_acc])\n",
        "  df = pd.DataFrame(retults,columns =['Method','Train Accuracy', 'Test Accuracy'])\n",
        "  df.to_latex(index=False,bold_rows=True)"
      ],
      "execution_count": 0,
      "outputs": []
    },
    {
      "cell_type": "code",
      "metadata": {
        "id": "MgZ9UnnW1T14",
        "colab_type": "code",
        "colab": {}
      },
      "source": [
        "trainloader, testloader = get_train_test_loaders()\n",
        "run_exp()"
      ],
      "execution_count": 0,
      "outputs": []
    }
  ]
}